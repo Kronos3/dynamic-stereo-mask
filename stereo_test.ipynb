{
 "cells": [
  {
   "cell_type": "code",
   "execution_count": 17,
   "metadata": {},
   "outputs": [],
   "source": [
    "from pathlib import Path\n",
    "import open3d as o3d\n",
    "from src import kitti, stereo, lea_stereo\n",
    "import numpy as np\n",
    "import copy\n",
    "\n",
    "import matplotlib.pyplot as plt"
   ]
  },
  {
   "cell_type": "code",
   "execution_count": 18,
   "metadata": {},
   "outputs": [],
   "source": [
    "dataset = kitti.KittiDataset(Path('dataset/sequences/00'))"
   ]
  },
  {
   "cell_type": "code",
   "execution_count": 19,
   "metadata": {},
   "outputs": [],
   "source": [
    "test_frame = kitti.KittiFrame(dataset, 654)\n",
    "ster = lea_stereo.LEAStereo(dataset.calib)"
   ]
  },
  {
   "cell_type": "code",
   "execution_count": 20,
   "metadata": {},
   "outputs": [
    {
     "ename": "KeyboardInterrupt",
     "evalue": "",
     "output_type": "error",
     "traceback": [
      "\u001b[0;31m---------------------------------------------------------------------------\u001b[0m",
      "\u001b[0;31mKeyboardInterrupt\u001b[0m                         Traceback (most recent call last)",
      "Cell \u001b[0;32mIn [20], line 1\u001b[0m\n\u001b[0;32m----> 1\u001b[0m disp \u001b[39m=\u001b[39m ster\u001b[39m.\u001b[39;49mdisparity(test_frame)\n\u001b[1;32m      2\u001b[0m plt\u001b[39m.\u001b[39mfigure(figsize\u001b[39m=\u001b[39m(\u001b[39m11\u001b[39m,\u001b[39m7\u001b[39m))\n\u001b[1;32m      3\u001b[0m plt\u001b[39m.\u001b[39mimshow(disp)\n",
      "File \u001b[0;32m~/git/dynamic-stereo-mask/src/lea_stereo.py:113\u001b[0m, in \u001b[0;36mLEAStereo.disparity\u001b[0;34m(self, frame)\u001b[0m\n\u001b[1;32m    111\u001b[0m \u001b[39mwith\u001b[39;00m torch\u001b[39m.\u001b[39mno_grad():\n\u001b[1;32m    112\u001b[0m     prediction \u001b[39m=\u001b[39m \u001b[39mself\u001b[39m\u001b[39m.\u001b[39mmodel(input1, input2)\n\u001b[0;32m--> 113\u001b[0m torch\u001b[39m.\u001b[39;49mcuda\u001b[39m.\u001b[39;49msynchronize()\n\u001b[1;32m    115\u001b[0m temp \u001b[39m=\u001b[39m prediction\u001b[39m.\u001b[39mcpu()\n\u001b[1;32m    116\u001b[0m temp \u001b[39m=\u001b[39m temp\u001b[39m.\u001b[39mdetach()\u001b[39m.\u001b[39mnumpy()\n",
      "File \u001b[0;32m~/git/dynamic-stereo-mask/venv/lib/python3.10/site-packages/torch/cuda/__init__.py:566\u001b[0m, in \u001b[0;36msynchronize\u001b[0;34m(device)\u001b[0m\n\u001b[1;32m    564\u001b[0m _lazy_init()\n\u001b[1;32m    565\u001b[0m \u001b[39mwith\u001b[39;00m torch\u001b[39m.\u001b[39mcuda\u001b[39m.\u001b[39mdevice(device):\n\u001b[0;32m--> 566\u001b[0m     \u001b[39mreturn\u001b[39;00m torch\u001b[39m.\u001b[39;49m_C\u001b[39m.\u001b[39;49m_cuda_synchronize()\n",
      "\u001b[0;31mKeyboardInterrupt\u001b[0m: "
     ]
    }
   ],
   "source": [
    "disp = ster.disparity(test_frame)\n",
    "plt.figure(figsize=(11,7))\n",
    "plt.imshow(disp)"
   ]
  },
  {
   "cell_type": "code",
   "execution_count": null,
   "metadata": {},
   "outputs": [],
   "source": [
    "depth = ster.depth(disp)"
   ]
  },
  {
   "cell_type": "code",
   "execution_count": null,
   "metadata": {},
   "outputs": [],
   "source": [
    "def gen_point_cloud(index):\n",
    "    frame = kitti.KittiFrame(dataset, index)\n",
    "    disp = ster.disparity(frame)\n",
    "    depth = ster.depth(disp)\n",
    "    return ster.point_cloud(frame, depth)"
   ]
  },
  {
   "cell_type": "code",
   "execution_count": null,
   "metadata": {},
   "outputs": [],
   "source": [
    "def draw_registration_result(source, target, transformation):\n",
    "    #source.paint_uniform_color([1, 0.706, 0])\n",
    "    target.paint_uniform_color([0, 0.651, 0.929])\n",
    "    source.transform(transformation)\n",
    "    o3d.visualization.draw_geometries([source, target])"
   ]
  },
  {
   "cell_type": "code",
   "execution_count": null,
   "metadata": {},
   "outputs": [
    {
     "name": "stdout",
     "output_type": "stream",
     "text": [
      "[[ 9.99997106e-01  1.87144745e-03  1.51152034e-03  3.73013569e-05]\n",
      " [-1.87754842e-03  9.99990056e-01  4.04503465e-03  1.20494009e-04]\n",
      " [-1.50393524e-03 -4.04786090e-03  9.99990676e-01  1.08778904e-03]\n",
      " [ 0.00000000e+00  0.00000000e+00  0.00000000e+00  1.00000000e+00]]\n"
     ]
    }
   ],
   "source": [
    "pt1 = gen_point_cloud(645)\n",
    "pt2 = gen_point_cloud(646)\n",
    "\n",
    "pt2.estimate_normals()\n",
    "reg_p2p = o3d.pipelines.registration.registration_icp(\n",
    "    pt1, pt2, 0.0002, np.identity(4),\n",
    "    o3d.pipelines.registration.TransformationEstimationPointToPlane())\n",
    "\n",
    "print(reg_p2p.transformation)\n",
    "# draw_registration_result(pt1, pt2, reg_p2p.transformation)\n",
    "pt1.transform(reg_p2p.transformation)\n",
    "\n",
    "full_cloud = (pt1 + pt2).voxel_down_sample(0.00002)\n",
    "o3d.visualization.draw_geometries([full_cloud])\n"
   ]
  },
  {
   "cell_type": "code",
   "execution_count": null,
   "metadata": {},
   "outputs": [],
   "source": [
    "pcd = o3d.io.read_point_cloud(\"full.pcd\")\n",
    "pt1 = gen_point_cloud(600)\n",
    "o3d.visualization.draw_geometries([pt1])"
   ]
  },
  {
   "cell_type": "code",
   "execution_count": null,
   "metadata": {},
   "outputs": [],
   "source": [
    "down = pcd.voxel_down_sample(0.0002)\n",
    "o3d.visualization.draw_geometries([down])"
   ]
  }
 ],
 "metadata": {
  "kernelspec": {
   "display_name": "Python 3.10.7 ('venv': venv)",
   "language": "python",
   "name": "python3"
  },
  "language_info": {
   "codemirror_mode": {
    "name": "ipython",
    "version": 3
   },
   "file_extension": ".py",
   "mimetype": "text/x-python",
   "name": "python",
   "nbconvert_exporter": "python",
   "pygments_lexer": "ipython3",
   "version": "3.10.7"
  },
  "orig_nbformat": 4,
  "vscode": {
   "interpreter": {
    "hash": "a76bdfb73b78d6b29b41016a677d1489789c828299b3bc6fac749781e840e1fc"
   }
  }
 },
 "nbformat": 4,
 "nbformat_minor": 2
}
